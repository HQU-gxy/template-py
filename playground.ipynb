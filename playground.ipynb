{
 "cells": [
  {
   "cell_type": "code",
   "execution_count": 1,
   "metadata": {},
   "outputs": [],
   "source": [
    "from app.template.variable.expr import LazyExpr\n",
    "from typing import List, Dict, Any, Optional\n",
    "from datetime import datetime\n",
    "import ast"
   ]
  },
  {
   "cell_type": "code",
   "execution_count": 2,
   "metadata": {},
   "outputs": [
    {
     "name": "stdout",
     "output_type": "stream",
     "text": [
      "{'a'}\n",
      "aaaaa\n"
     ]
    },
    {
     "data": {
      "text/plain": [
       "1025"
      ]
     },
     "execution_count": 2,
     "metadata": {},
     "output_type": "execute_result"
    }
   ],
   "source": [
    "im = [\"import numpy as np\", \"from datetime import datetime\"]\n",
    "\n",
    "# s = \"lambda x: all(isinstance(i, datetime) for i in x) if isinstance(x, list) else False\"\n",
    "s = \"(aaaaa := a + 1)\"\n",
    "# s = \"\"\"\n",
    "# 1+1\n",
    "# \"\"\"\n",
    "f = LazyExpr(s, im)\n",
    "\n",
    "# print(ast.dump(f._ast, indent=2))\n",
    "print(f.unbound)\n",
    "print(f.target)\n",
    "\n",
    "f.eval(env={\"a\": 1024})"
   ]
  },
  {
   "cell_type": "code",
   "execution_count": 16,
   "metadata": {},
   "outputs": [
    {
     "data": {
      "text/plain": [
       "Ok({'a': 1, 'b': 2, 'c': 3})"
      ]
     },
     "execution_count": 16,
     "metadata": {},
     "output_type": "execute_result"
    }
   ],
   "source": [
    "from app.template.data_source.model import DictSource\n",
    "\n",
    "s = DictSource(name=\"test\",\n",
    "               data={\n",
    "                   \"a\": 1,\n",
    "                   \"b\": 2,\n",
    "                   \"c\": 3\n",
    "               },\n",
    "               json_schema={\n",
    "                   \"type\": \"object\",\n",
    "                   \"properties\": {\n",
    "                       \"a\": {\n",
    "                           \"type\": \"integer\"\n",
    "                       },\n",
    "                       \"b\": {\n",
    "                           \"type\": \"integer\"\n",
    "                       },\n",
    "                       \"c\": {\n",
    "                           \"type\": \"integer\"\n",
    "                       }\n",
    "                   }\n",
    "               })\n",
    "s.load()"
   ]
  },
  {
   "cell_type": "code",
   "execution_count": 4,
   "metadata": {},
   "outputs": [
    {
     "data": {
      "text/plain": [
       "LiteralVariable(name='s', expr=LazyExpr(raw='1+1', imports=[]), comment=None, formatter=None, t=None)"
      ]
     },
     "execution_count": 4,
     "metadata": {},
     "output_type": "execute_result"
    }
   ],
   "source": [
    "from app.template.variable.model import IVariable, LiteralVariable\n",
    "\n",
    "LiteralVariable(name=\"s\", expr=LazyExpr(\"1+1\"))"
   ]
  },
  {
   "cell_type": "code",
   "execution_count": 5,
   "metadata": {},
   "outputs": [
    {
     "data": {
      "text/plain": [
       "Err(ValueError('failed to verify value: a', TypeCheckError('is not an instance of int')))"
      ]
     },
     "execution_count": 5,
     "metadata": {},
     "output_type": "execute_result"
    }
   ],
   "source": [
    "var_a = LiteralVariable.model_validate({\n",
    "    \"name\": \"a\",\n",
    "    \"expr\": \"datetime.now()\",\n",
    "    \"t\": \"int\",\n",
    "    \"imports\": [\"from datetime import datetime\"],\n",
    "})\n",
    "\n",
    "var_a.load()"
   ]
  },
  {
   "cell_type": "code",
   "execution_count": 6,
   "metadata": {},
   "outputs": [
    {
     "data": {
      "text/plain": [
       "{'name': 's',\n",
       " 'expr': {'raw': 'datetime.now()',\n",
       "  'imports': ['import numpy as np', 'from datetime import datetime']},\n",
       " 'comment': None,\n",
       " 'formatter': {'raw': \"lambda x: x.strftime('%Y-%m-%d %H:%M:%S')\",\n",
       "  'imports': ['import numpy as np', 'from datetime import datetime']},\n",
       " 't': datetime.datetime}"
      ]
     },
     "metadata": {},
     "output_type": "display_data"
    },
    {
     "data": {
      "text/plain": [
       "'2024-03-28 00:08:56'"
      ]
     },
     "metadata": {},
     "output_type": "display_data"
    }
   ],
   "source": [
    "# var_s = LiteralVariable(name=\"s\", expr=LazyExpr(\"datetime.now()\"), t=datetime, imports=im)\n",
    "var_s = LiteralVariable(name=\"s\",\n",
    "                        expr=\"datetime.now()\",\n",
    "                        formatter=\"lambda x: x.strftime('%Y-%m-%d %H:%M:%S')\",\n",
    "                        imports=im,\n",
    "                        t=datetime)\n",
    "identity = lambda x: x\n",
    "display(var_s.model_dump())\n",
    "var_s_val = var_s.load().unwrap()\n",
    "format_fn = var_s.eval_formatter()\n",
    "assert format_fn is not None\n",
    "display(format_fn(var_s_val))"
   ]
  },
  {
   "cell_type": "code",
   "execution_count": 7,
   "metadata": {},
   "outputs": [
    {
     "name": "stdout",
     "output_type": "stream",
     "text": [
      "set()\n",
      "set()\n",
      "{'a'}\n",
      "{'b'}\n",
      "{'b', 'a'}\n",
      "{'d', 'c'}\n"
     ]
    }
   ],
   "source": [
    "lst = [\n",
    "    LiteralVariable(name=\"s\", expr=LazyExpr(\"1+1\")),\n",
    "    LiteralVariable(name=\"a\", expr=LazyExpr(\"1+1\")),\n",
    "    LiteralVariable(name=\"b\", expr=LazyExpr(\"a+1\")),\n",
    "    LiteralVariable(name=\"c\", expr=LazyExpr(\"b+1\")),\n",
    "    LiteralVariable(name=\"d\", expr=LazyExpr(\"a+b+2\")),\n",
    "    LiteralVariable(name=\"e\", expr=LazyExpr(\"c+d+3\")),\n",
    "]\n",
    "for v in lst:\n",
    "    print(v.unbound)"
   ]
  },
  {
   "cell_type": "code",
   "execution_count": 8,
   "metadata": {},
   "outputs": [
    {
     "data": {
      "text/plain": [
       "{'a': 2, 'b': 3, 'c': 4, 'd': 7, 'e': 14, 's': 2}"
      ]
     },
     "metadata": {},
     "output_type": "display_data"
    }
   ],
   "source": [
    "from app.template.dependency.resolver import resolve_and_evaluate, to_env_dict\n",
    "\n",
    "vars = resolve_and_evaluate(lst)\n",
    "if vars.is_ok():\n",
    "    display(to_env_dict(vars.unwrap()))"
   ]
  },
  {
   "cell_type": "code",
   "execution_count": 9,
   "metadata": {},
   "outputs": [],
   "source": [
    "text = \"本期中出院病例${{'a':0}}例。手术人数${num_operation}人，四级手术${num_operation_4}人，微创手术${num_operation_micro}人。CMI值${CMI}，其中 CMI 小于1的病人数有${query(CMI<1)}人，占比${query(CMI<1)/num_patient}；1-2的病人数${query(CMI > 1 and CMI < 2)}人，占比${query(CMI > 1 and CMI < 2) / num_patient};2-5的病人数${(num_CIM_2_5 := query(CMI > 2 and CMI < 5))}人，占比${num_CIM_2_5 / num_patient};大于5的病人数${(num_CIM_gt_5 := query(CMI > 5))}人,占比${num_CIM_gt_5 / num_patient}。总体来说大于2的病人数${(num_CIM_gt_2 := query(CMI > 2))}人，占比${num_CIM_gt_2 / num_patient}%，有提升空间。\""
   ]
  },
  {
   "cell_type": "code",
   "execution_count": 11,
   "metadata": {},
   "outputs": [
    {
     "data": {
      "text/plain": [
       "'本期中出院病例#938344a3#例。手术人数#e2264901#人，四级手术#d5191cf5#人，微创手术#272aea71#人。CMI值#50c182b7#，其中 CMI 小于1的病人数有#44224433#人，占比#9b57cb36#；1-2的病人数#0bc37be4#人，占比#0c46628a#;2-5的病人数#80ec94a6#人，占比#f6d11d05#;大于5的病人数#0919f947#人,占比#682db670#。总体来说大于2的病人数#023ed6d7#人，占比#c33640e8#%，有提升空间。'"
      ]
     },
     "metadata": {},
     "output_type": "display_data"
    },
    {
     "data": {
      "text/plain": [
       "[('938344a3', \"{'a':0}\"),\n",
       " ('e2264901', 'num_operation'),\n",
       " ('d5191cf5', 'num_operation_4'),\n",
       " ('272aea71', 'num_operation_micro'),\n",
       " ('50c182b7', 'CMI'),\n",
       " ('44224433', 'query(CMI<1)'),\n",
       " ('9b57cb36', 'query(CMI<1)/num_patient'),\n",
       " ('0bc37be4', 'query(CMI > 1 and CMI < 2)'),\n",
       " ('0c46628a', 'query(CMI > 1 and CMI < 2) / num_patient'),\n",
       " ('80ec94a6', '(num_CIM_2_5 := query(CMI > 2 and CMI < 5))'),\n",
       " ('f6d11d05', 'num_CIM_2_5 / num_patient'),\n",
       " ('0919f947', '(num_CIM_gt_5 := query(CMI > 5))'),\n",
       " ('682db670', 'num_CIM_gt_5 / num_patient'),\n",
       " ('023ed6d7', '(num_CIM_gt_2 := query(CMI > 2))'),\n",
       " ('c33640e8', 'num_CIM_gt_2 / num_patient')]"
      ]
     },
     "metadata": {},
     "output_type": "display_data"
    }
   ],
   "source": [
    "from app.template.dependency.extractor import parse\n",
    "\n",
    "parsed = parse(text)\n",
    "\n",
    "# print(parsed)\n",
    "\n",
    "display(parsed.unwrap().text)\n",
    "display(parsed.unwrap().table)"
   ]
  }
 ],
 "metadata": {
  "kernelspec": {
   "display_name": "Python 3",
   "language": "python",
   "name": "python3"
  },
  "language_info": {
   "codemirror_mode": {
    "name": "ipython",
    "version": 3
   },
   "file_extension": ".py",
   "mimetype": "text/x-python",
   "name": "python",
   "nbconvert_exporter": "python",
   "pygments_lexer": "ipython3",
   "version": "3.12.1"
  }
 },
 "nbformat": 4,
 "nbformat_minor": 2
}
