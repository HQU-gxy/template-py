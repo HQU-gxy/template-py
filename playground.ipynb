{
 "cells": [
  {
   "cell_type": "code",
   "execution_count": 7,
   "metadata": {},
   "outputs": [],
   "source": [
    "from app.variable.expr import LazyExpr\n",
    "import ast\n"
   ]
  },
  {
   "cell_type": "code",
   "execution_count": 8,
   "metadata": {},
   "outputs": [
    {
     "name": "stdout",
     "output_type": "stream",
     "text": [
      "{'a'}\n",
      "aaaaa\n"
     ]
    },
    {
     "data": {
      "text/plain": [
       "1025"
      ]
     },
     "execution_count": 8,
     "metadata": {},
     "output_type": "execute_result"
    }
   ],
   "source": [
    "# im = [\"from datetime import datetime\", \"from typing import List\"]\n",
    "im = []\n",
    "\n",
    "# s = \"lambda x: all(isinstance(i, datetime) for i in x) if isinstance(x, list) else False\"\n",
    "s = \"(aaaaa := a + 1)\"\n",
    "# s = \"\"\"\n",
    "# 1+1\n",
    "# \"\"\"\n",
    "f = LazyExpr(s, im)\n",
    "\n",
    "# print(ast.dump(f._ast, indent=2))\n",
    "print(f.unbound)\n",
    "print(f.target)\n",
    "\n",
    "f.eval(env={\"a\": 1024})"
   ]
  }
 ],
 "metadata": {
  "kernelspec": {
   "display_name": "Python 3",
   "language": "python",
   "name": "python3"
  },
  "language_info": {
   "codemirror_mode": {
    "name": "ipython",
    "version": 3
   },
   "file_extension": ".py",
   "mimetype": "text/x-python",
   "name": "python",
   "nbconvert_exporter": "python",
   "pygments_lexer": "ipython3",
   "version": "3.10.4"
  }
 },
 "nbformat": 4,
 "nbformat_minor": 2
}
