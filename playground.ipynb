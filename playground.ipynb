{
 "cells": [
  {
   "cell_type": "code",
   "execution_count": 1,
   "metadata": {},
   "outputs": [],
   "source": [
    "from app.template.variable.expr import LazyExpr\n",
    "from typing import List, Dict, Any, Optional\n",
    "from datetime import datetime\n",
    "import ast"
   ]
  },
  {
   "cell_type": "code",
   "execution_count": 2,
   "metadata": {},
   "outputs": [
    {
     "name": "stdout",
     "output_type": "stream",
     "text": [
      "{'a'}\n",
      "aaaaa\n"
     ]
    },
    {
     "data": {
      "text/plain": [
       "1025"
      ]
     },
     "execution_count": 2,
     "metadata": {},
     "output_type": "execute_result"
    }
   ],
   "source": [
    "im = [\"import numpy as np\", \"from datetime import datetime\"]\n",
    "\n",
    "# s = \"lambda x: all(isinstance(i, datetime) for i in x) if isinstance(x, list) else False\"\n",
    "s = \"(aaaaa := a + 1)\"\n",
    "# s = \"\"\"\n",
    "# 1+1\n",
    "# \"\"\"\n",
    "f = LazyExpr(s, im)\n",
    "\n",
    "# print(ast.dump(f._ast, indent=2))\n",
    "print(f.unbound)\n",
    "print(f.target)\n",
    "\n",
    "f.eval(env={\"a\": 1024})"
   ]
  },
  {
   "cell_type": "code",
   "execution_count": 3,
   "metadata": {},
   "outputs": [
    {
     "data": {
      "text/plain": [
       "{'name': 'test',\n",
       " 'url': 'http://localhost:5000/api',\n",
       " 'comment': None,\n",
       " 'json_schema': None}"
      ]
     },
     "execution_count": 3,
     "metadata": {},
     "output_type": "execute_result"
    }
   ],
   "source": [
    "from app.template.data_source.model import APISource\n",
    "\n",
    "s = APISource(name=\"test\", url=\"http://localhost:5000/api\")\n",
    "s.model_dump()"
   ]
  },
  {
   "cell_type": "code",
   "execution_count": 4,
   "metadata": {},
   "outputs": [
    {
     "data": {
      "text/plain": [
       "LiteralVariable(name='s', expr=LazyExpr(raw='1+1', imports=[]), comment=None, formatter=None, t=None)"
      ]
     },
     "execution_count": 4,
     "metadata": {},
     "output_type": "execute_result"
    }
   ],
   "source": [
    "from app.template.variable.model import Variable, LiteralVariable\n",
    "\n",
    "LiteralVariable(name=\"s\", expr=LazyExpr(\"1+1\"))"
   ]
  },
  {
   "cell_type": "code",
   "execution_count": 5,
   "metadata": {},
   "outputs": [
    {
     "data": {
      "text/plain": [
       "True"
      ]
     },
     "execution_count": 5,
     "metadata": {},
     "output_type": "execute_result"
    }
   ],
   "source": [
    "var_a = LiteralVariable.model_validate({\n",
    "    \"name\": \"a\",\n",
    "    \"expr\": \"datetime.now()\",\n",
    "    \"t\": \"datetime\",\n",
    "    \"imports\": [\"from datetime import datetime\"],\n",
    "})\n",
    "\n",
    "var_a.verify()"
   ]
  },
  {
   "cell_type": "code",
   "execution_count": 6,
   "metadata": {},
   "outputs": [
    {
     "data": {
      "text/plain": [
       "{'name': 's',\n",
       " 'expr': {'raw': 'datetime.now()',\n",
       "  'imports': ['import numpy as np', 'from datetime import datetime']},\n",
       " 'comment': None,\n",
       " 'formatter': {'raw': \"lambda x: x.strftime('%Y-%m-%d %H:%M:%S')\",\n",
       "  'imports': ['import numpy as np', 'from datetime import datetime']},\n",
       " 't': datetime.datetime}"
      ]
     },
     "metadata": {},
     "output_type": "display_data"
    },
    {
     "data": {
      "text/plain": [
       "'2024-03-27 16:14:54'"
      ]
     },
     "metadata": {},
     "output_type": "display_data"
    },
    {
     "data": {
      "text/plain": [
       "True"
      ]
     },
     "execution_count": 6,
     "metadata": {},
     "output_type": "execute_result"
    }
   ],
   "source": [
    "# var_s = LiteralVariable(name=\"s\", expr=LazyExpr(\"datetime.now()\"), t=datetime, imports=im)\n",
    "var_s = LiteralVariable(name=\"s\",\n",
    "                        expr=\"datetime.now()\",\n",
    "                        formatter=\"lambda x: x.strftime('%Y-%m-%d %H:%M:%S')\",\n",
    "                        imports=im,\n",
    "                        t=datetime)\n",
    "display(var_s.model_dump())\n",
    "display(var_s.format())\n",
    "var_s.verify()"
   ]
  },
  {
   "cell_type": "code",
   "execution_count": 7,
   "metadata": {},
   "outputs": [
    {
     "name": "stdout",
     "output_type": "stream",
     "text": [
      "set()\n",
      "set()\n",
      "{'a'}\n",
      "{'b'}\n",
      "{'a', 'b'}\n",
      "{'d', 'c'}\n"
     ]
    }
   ],
   "source": [
    "lst = [\n",
    "    LiteralVariable(name=\"s\", expr=LazyExpr(\"1+1\")),\n",
    "    LiteralVariable(name=\"a\", expr=LazyExpr(\"1+1\")),\n",
    "    LiteralVariable(name=\"b\", expr=LazyExpr(\"a+1\")),\n",
    "    LiteralVariable(name=\"c\", expr=LazyExpr(\"b+1\")),\n",
    "    LiteralVariable(name=\"d\", expr=LazyExpr(\"a+b+2\")),\n",
    "    LiteralVariable(name=\"e\", expr=LazyExpr(\"c+d+3\")),\n",
    "]\n",
    "for v in lst:\n",
    "    print(v.unbound)"
   ]
  },
  {
   "cell_type": "code",
   "execution_count": 11,
   "metadata": {},
   "outputs": [
    {
     "data": {
      "text/plain": [
       "{'a': 2, 'b': 3, 'c': 4, 'd': 7, 'e': 14, 's': 2}"
      ]
     },
     "metadata": {},
     "output_type": "display_data"
    }
   ],
   "source": [
    "from app.template.dependency.resolver import resolve_env, to_env_dict\n",
    "\n",
    "vars = resolve_env(lst)\n",
    "if vars.is_ok():\n",
    "    display(to_env_dict(vars.unwrap()))"
   ]
  },
  {
   "cell_type": "code",
   "execution_count": 9,
   "metadata": {},
   "outputs": [],
   "source": [
    "text = \"本期中出院病例${{'a':0}}例。手术人数${num_operation}人，四级手术${num_operation_4}人，微创手术${num_operation_micro}人。CMI值${CMI}，其中 CMI 小于1的病人数有${query(CMI<1)}人，占比${query(CMI<1)/num_patient}；1-2的病人数${query(CMI > 1 and CMI < 2)}人，占比${query(CMI > 1 and CMI < 2) / num_patient};2-5的病人数${(num_CIM_2_5 := query(CMI > 2 and CMI < 5))}人，占比${num_CIM_2_5 / num_patient};大于5的病人数${(num_CIM_gt_5 := query(CMI > 5))}人,占比${num_CIM_gt_5 / num_patient}。总体来说大于2的病人数${(num_CIM_gt_2 := query(CMI > 2))}人，占比${num_CIM_gt_2 / num_patient}%，有提升空间。\""
   ]
  },
  {
   "cell_type": "code",
   "execution_count": 10,
   "metadata": {},
   "outputs": [
    {
     "name": "stdout",
     "output_type": "stream",
     "text": [
      "[\"{'a':0}\", 'num_operation', 'num_operation_4', 'num_operation_micro', 'CMI', 'query(CMI<1)', 'query(CMI<1)/num_patient', 'query(CMI > 1 and CMI < 2)', 'query(CMI > 1 and CMI < 2) / num_patient', '(num_CIM_2_5 := query(CMI > 2 and CMI < 5))', 'num_CIM_2_5 / num_patient', '(num_CIM_gt_5 := query(CMI > 5))', 'num_CIM_gt_5 / num_patient', '(num_CIM_gt_2 := query(CMI > 2))', 'num_CIM_gt_2 / num_patient']\n",
      "[None, None, None, None, None, None, None, None, None, 'num_CIM_2_5', None, 'num_CIM_gt_5', None, 'num_CIM_gt_2', None]\n",
      "[set(), {'num_operation'}, {'num_operation_4'}, {'num_operation_micro'}, {'CMI'}, {'query', 'CMI'}, {'query', 'num_patient', 'CMI'}, {'query', 'CMI'}, {'query', 'num_patient', 'CMI'}, {'query', 'CMI'}, {'num_patient', 'num_CIM_2_5'}, {'query', 'CMI'}, {'num_patient', 'num_CIM_gt_5'}, {'query', 'CMI'}, {'num_patient', 'num_CIM_gt_2'}]\n"
     ]
    }
   ],
   "source": [
    "from app.template.dependency.extractor import parse\n",
    "\n",
    "parsed = parse(text)\n",
    "\n",
    "# print(parsed)\n",
    "\n",
    "table = parsed.unwrap().table\n",
    "exprs = list(map(lambda x: LazyExpr(x[1]), table))\n",
    "print(list(map(lambda x: x.raw, exprs)))\n",
    "print(list(map(lambda x: x.target, exprs)))\n",
    "print(list(map(lambda x: x.unbound, exprs)))"
   ]
  }
 ],
 "metadata": {
  "kernelspec": {
   "display_name": "Python 3",
   "language": "python",
   "name": "python3"
  },
  "language_info": {
   "codemirror_mode": {
    "name": "ipython",
    "version": 3
   },
   "file_extension": ".py",
   "mimetype": "text/x-python",
   "name": "python",
   "nbconvert_exporter": "python",
   "pygments_lexer": "ipython3",
   "version": "3.12.2"
  }
 },
 "nbformat": 4,
 "nbformat_minor": 2
}
