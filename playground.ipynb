{
 "cells": [
  {
   "cell_type": "code",
   "execution_count": 1,
   "metadata": {},
   "outputs": [],
   "source": [
    "from app.variable.expr import LazyExpr\n",
    "from typing import List, Dict, Any, Optional\n",
    "from datetime import datetime\n",
    "import ast"
   ]
  },
  {
   "cell_type": "code",
   "execution_count": 2,
   "metadata": {},
   "outputs": [
    {
     "name": "stdout",
     "output_type": "stream",
     "text": [
      "{'a'}\n",
      "aaaaa\n"
     ]
    },
    {
     "data": {
      "text/plain": [
       "1025"
      ]
     },
     "execution_count": 2,
     "metadata": {},
     "output_type": "execute_result"
    }
   ],
   "source": [
    "im = [\"import numpy as np\", \"from datetime import datetime\"]\n",
    "\n",
    "# s = \"lambda x: all(isinstance(i, datetime) for i in x) if isinstance(x, list) else False\"\n",
    "s = \"(aaaaa := a + 1)\"\n",
    "# s = \"\"\"\n",
    "# 1+1\n",
    "# \"\"\"\n",
    "f = LazyExpr(s, im)\n",
    "\n",
    "# print(ast.dump(f._ast, indent=2))\n",
    "print(f.unbound)\n",
    "print(f.target)\n",
    "\n",
    "f.eval(env={\"a\": 1024})"
   ]
  },
  {
   "cell_type": "code",
   "execution_count": 3,
   "metadata": {},
   "outputs": [
    {
     "name": "stderr",
     "output_type": "stream",
     "text": [
      "C:\\Users\\cross\\AppData\\Roaming\\Python\\Python312\\site-packages\\pydantic\\_internal\\_fields.py:186: UserWarning: Field name \"schema\" shadows an attribute in parent \"BaseModel\"; \n",
      "  warnings.warn(\n"
     ]
    },
    {
     "data": {
      "text/plain": [
       "{'name': 'test',\n",
       " 'url': 'http://localhost:5000/api',\n",
       " 'comment': None,\n",
       " 'schema': None}"
      ]
     },
     "execution_count": 3,
     "metadata": {},
     "output_type": "execute_result"
    }
   ],
   "source": [
    "from app.data_source.model import APISource\n",
    "\n",
    "s = APISource(name=\"test\", url=\"http://localhost:5000/api\")\n",
    "s.model_dump()"
   ]
  },
  {
   "cell_type": "code",
   "execution_count": 4,
   "metadata": {},
   "outputs": [
    {
     "data": {
      "text/plain": [
       "LiteralVariable(name='s', expr=LazyExpr(raw='1+1', imports=[]), comment=None, formatter=None, t=None, inst_imports=None)"
      ]
     },
     "execution_count": 4,
     "metadata": {},
     "output_type": "execute_result"
    }
   ],
   "source": [
    "from app.variable.model import Variable, LiteralVariable\n",
    "\n",
    "LiteralVariable(name=\"s\", expr=LazyExpr(\"1+1\"))"
   ]
  },
  {
   "cell_type": "code",
   "execution_count": 5,
   "metadata": {},
   "outputs": [
    {
     "data": {
      "text/plain": [
       "True"
      ]
     },
     "execution_count": 5,
     "metadata": {},
     "output_type": "execute_result"
    }
   ],
   "source": [
    "LiteralVariable.model_validate({\n",
    "    \"name\": \"s\",\n",
    "    \"expr\": \"1+1\"\n",
    "})\n",
    "\n",
    "\n",
    "var_a = LiteralVariable.model_validate({\n",
    "    \"name\": \"a\",\n",
    "    \"expr\": {\n",
    "        \"raw\": \"1+1\",\n",
    "        \"imports\": [],\n",
    "    },\n",
    "    \"t\": \"int\",\n",
    "})\n",
    "\n",
    "var_a.verify()"
   ]
  },
  {
   "cell_type": "code",
   "execution_count": 11,
   "metadata": {},
   "outputs": [
    {
     "ename": "AttributeError",
     "evalue": "'LiteralVariable' object has no attribute 'eval'",
     "output_type": "error",
     "traceback": [
      "\u001b[1;31m---------------------------------------------------------------------------\u001b[0m",
      "\u001b[1;31mAttributeError\u001b[0m                            Traceback (most recent call last)",
      "Cell \u001b[1;32mIn[11], line 5\u001b[0m\n\u001b[0;32m      3\u001b[0m \u001b[38;5;66;03m# var_s.verify()\u001b[39;00m\n\u001b[0;32m      4\u001b[0m var_s\u001b[38;5;241m.\u001b[39mexpr\n\u001b[1;32m----> 5\u001b[0m \u001b[43mvar_s\u001b[49m\u001b[38;5;241;43m.\u001b[39;49m\u001b[43meval\u001b[49m()\n",
      "File \u001b[1;32m~\\AppData\\Roaming\\Python\\Python312\\site-packages\\pydantic\\main.py:767\u001b[0m, in \u001b[0;36mBaseModel.__getattr__\u001b[1;34m(self, item)\u001b[0m\n\u001b[0;32m    764\u001b[0m     \u001b[38;5;28;01mreturn\u001b[39;00m \u001b[38;5;28msuper\u001b[39m()\u001b[38;5;241m.\u001b[39m\u001b[38;5;21m__getattribute__\u001b[39m(item)  \u001b[38;5;66;03m# Raises AttributeError if appropriate\u001b[39;00m\n\u001b[0;32m    765\u001b[0m \u001b[38;5;28;01melse\u001b[39;00m:\n\u001b[0;32m    766\u001b[0m     \u001b[38;5;66;03m# this is the current error\u001b[39;00m\n\u001b[1;32m--> 767\u001b[0m     \u001b[38;5;28;01mraise\u001b[39;00m \u001b[38;5;167;01mAttributeError\u001b[39;00m(\u001b[38;5;124mf\u001b[39m\u001b[38;5;124m'\u001b[39m\u001b[38;5;132;01m{\u001b[39;00m\u001b[38;5;28mtype\u001b[39m(\u001b[38;5;28mself\u001b[39m)\u001b[38;5;241m.\u001b[39m\u001b[38;5;18m__name__\u001b[39m\u001b[38;5;132;01m!r}\u001b[39;00m\u001b[38;5;124m object has no attribute \u001b[39m\u001b[38;5;132;01m{\u001b[39;00mitem\u001b[38;5;132;01m!r}\u001b[39;00m\u001b[38;5;124m'\u001b[39m)\n",
      "\u001b[1;31mAttributeError\u001b[0m: 'LiteralVariable' object has no attribute 'eval'"
     ]
    }
   ],
   "source": [
    "var_s = LiteralVariable(name=\"s\", expr=LazyExpr(\"datetime.now()\"), t=datetime, imports=im)\n",
    "var_s.imports\n",
    "var_s.verify()\n",
    "# var_s.expr"
   ]
  },
  {
   "cell_type": "code",
   "execution_count": 7,
   "metadata": {},
   "outputs": [
    {
     "name": "stdout",
     "output_type": "stream",
     "text": [
      "set()\n",
      "set()\n",
      "{'a'}\n",
      "{'b'}\n",
      "{'a', 'b'}\n",
      "{'d', 'c'}\n"
     ]
    }
   ],
   "source": [
    "\n",
    "lst = [\n",
    "    LiteralVariable(name=\"s\", expr=LazyExpr(\"1+1\")),\n",
    "    LiteralVariable(name=\"a\", expr=LazyExpr(\"1+1\")),\n",
    "    LiteralVariable(name=\"b\", expr=LazyExpr(\"a+1\")),\n",
    "    LiteralVariable(name=\"c\", expr=LazyExpr(\"b+1\")),\n",
    "    LiteralVariable(name=\"d\", expr=LazyExpr(\"a+b+2\")),\n",
    "    LiteralVariable(name=\"e\", expr=LazyExpr(\"c+d+3\")),\n",
    "]\n",
    "for v in lst:\n",
    "    print(v.unbound)"
   ]
  },
  {
   "cell_type": "code",
   "execution_count": 8,
   "metadata": {},
   "outputs": [
    {
     "data": {
      "text/plain": [
       "Ok({'a': 2, 'b': 3, 'c': 4, 'd': 7, 'e': 14, 's': 2})"
      ]
     },
     "execution_count": 8,
     "metadata": {},
     "output_type": "execute_result"
    }
   ],
   "source": [
    "from app.dependency.resolver import DependencyResolver, resolve_env\n",
    "\n",
    "resolve_env(lst)"
   ]
  },
  {
   "cell_type": "code",
   "execution_count": 9,
   "metadata": {},
   "outputs": [],
   "source": [
    "text = \"本期中出院病例${{'a':0}}例。手术人数${num_operation}人，四级手术${num_operation_4}人，微创手术${num_operation_micro}人。CMI值${CMI}，其中 CMI 小于1的病人数有${query(CMI<1)}人，占比${query(CMI<1)/num_patient}；1-2的病人数${query(CMI > 1 and CMI < 2)}人，占比${query(CMI > 1 and CMI < 2) / num_patient};2-5的病人数${(num_CIM_2_5 := query(CMI > 2 and CMI < 5))}人，占比${num_CIM_2_5 / num_patient};大于5的病人数${(num_CIM_gt_5 := query(CMI > 5))}人,占比${num_CIM_gt_5 / num_patient}。总体来说大于2的病人数${(num_CIM_gt_2 := query(CMI > 2))}人，占比${num_CIM_gt_2 / num_patient}%，有提升空间。\""
   ]
  },
  {
   "cell_type": "code",
   "execution_count": 10,
   "metadata": {},
   "outputs": [
    {
     "name": "stdout",
     "output_type": "stream",
     "text": [
      "[\"{'a':0}\", 'num_operation', 'num_operation_4', 'num_operation_micro', 'CMI', 'query(CMI<1)', 'query(CMI<1)/num_patient', 'query(CMI > 1 and CMI < 2)', 'query(CMI > 1 and CMI < 2) / num_patient', '(num_CIM_2_5 := query(CMI > 2 and CMI < 5))', 'num_CIM_2_5 / num_patient', '(num_CIM_gt_5 := query(CMI > 5))', 'num_CIM_gt_5 / num_patient', '(num_CIM_gt_2 := query(CMI > 2))', 'num_CIM_gt_2 / num_patient']\n",
      "[None, None, None, None, None, None, None, None, None, 'num_CIM_2_5', None, 'num_CIM_gt_5', None, 'num_CIM_gt_2', None]\n",
      "[set(), {'num_operation'}, {'num_operation_4'}, {'num_operation_micro'}, {'CMI'}, {'query', 'CMI'}, {'query', 'CMI', 'num_patient'}, {'query', 'CMI'}, {'query', 'CMI', 'num_patient'}, {'query', 'CMI'}, {'num_CIM_2_5', 'num_patient'}, {'query', 'CMI'}, {'num_CIM_gt_5', 'num_patient'}, {'query', 'CMI'}, {'num_CIM_gt_2', 'num_patient'}]\n"
     ]
    }
   ],
   "source": [
    "from app.dependency.extractor import parse\n",
    "\n",
    "parsed = parse(text)\n",
    "\n",
    "# print(parsed)\n",
    "\n",
    "table = parsed.unwrap().table\n",
    "exprs = list(map(lambda x: LazyExpr(x[1]), table))\n",
    "print(list(map(lambda x: x.raw, exprs)))\n",
    "print(list(map(lambda x: x.target, exprs)))\n",
    "print(list(map(lambda x: x.unbound, exprs)))"
   ]
  }
 ],
 "metadata": {
  "kernelspec": {
   "display_name": "Python 3",
   "language": "python",
   "name": "python3"
  },
  "language_info": {
   "codemirror_mode": {
    "name": "ipython",
    "version": 3
   },
   "file_extension": ".py",
   "mimetype": "text/x-python",
   "name": "python",
   "nbconvert_exporter": "python",
   "pygments_lexer": "ipython3",
   "version": "3.12.1"
  }
 },
 "nbformat": 4,
 "nbformat_minor": 2
}
