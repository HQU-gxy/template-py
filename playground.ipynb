{
 "cells": [
  {
   "cell_type": "code",
   "execution_count": 1,
   "metadata": {},
   "outputs": [],
   "source": [
    "from app.variable.expr import LazyExpr\n",
    "from typing import List, Dict, Any, Optional\n",
    "import ast\n"
   ]
  },
  {
   "cell_type": "code",
   "execution_count": 2,
   "metadata": {},
   "outputs": [
    {
     "name": "stdout",
     "output_type": "stream",
     "text": [
      "{'a'}\n",
      "aaaaa\n"
     ]
    },
    {
     "data": {
      "text/plain": [
       "1025"
      ]
     },
     "execution_count": 2,
     "metadata": {},
     "output_type": "execute_result"
    }
   ],
   "source": [
    "# im = [\"from datetime import datetime\", \"from typing import List\"]\n",
    "im = []\n",
    "\n",
    "# s = \"lambda x: all(isinstance(i, datetime) for i in x) if isinstance(x, list) else False\"\n",
    "s = \"(aaaaa := a + 1)\"\n",
    "# s = \"\"\"\n",
    "# 1+1\n",
    "# \"\"\"\n",
    "f = LazyExpr(s, im)\n",
    "\n",
    "# print(ast.dump(f._ast, indent=2))\n",
    "print(f.unbound)\n",
    "print(f.target)\n",
    "\n",
    "f.eval(env={\"a\": 1024})"
   ]
  },
  {
   "cell_type": "code",
   "execution_count": 3,
   "metadata": {},
   "outputs": [
    {
     "name": "stdout",
     "output_type": "stream",
     "text": [
      "set()\n",
      "{'s'}\n",
      "set()\n",
      "{'a'}\n",
      "{'b'}\n",
      "{'b', 'a'}\n",
      "{'c', 'd'}\n"
     ]
    }
   ],
   "source": [
    "from app.variable.model import Variable, LiteralVariable\n",
    "\n",
    "lst = [\n",
    "    LiteralVariable(\"s\", LazyExpr(\"1+2\")),\n",
    "    LiteralVariable(\"t\", LazyExpr(\"s*2+12\")),\n",
    "    LiteralVariable(\"a\", LazyExpr(\"1+1\")),\n",
    "    LiteralVariable(\"b\", LazyExpr(\"a+1\")),\n",
    "    LiteralVariable(\"c\", LazyExpr(\"b+1\")),\n",
    "    LiteralVariable(\"d\", LazyExpr(\"a+b+2\")),\n",
    "    LiteralVariable(\"e\", LazyExpr(\"c+d+3\")),\n",
    "]\n",
    "for v in lst:\n",
    "    print(v.unbound)"
   ]
  },
  {
   "cell_type": "code",
   "execution_count": 4,
   "metadata": {},
   "outputs": [],
   "source": [
    "import networkx as nx\n",
    "import matplotlib.pyplot as plt\n",
    "\n",
    "G = nx.DiGraph()\n",
    "for v in lst:\n",
    "    G.add_node(v.name)\n",
    "    for u in v.unbound:\n",
    "        G.add_edge(v.name, u)"
   ]
  },
  {
   "cell_type": "code",
   "execution_count": 5,
   "metadata": {},
   "outputs": [],
   "source": [
    "# nx.draw(G, with_labels=True)\n",
    "# plt.show()"
   ]
  },
  {
   "cell_type": "code",
   "execution_count": 6,
   "metadata": {},
   "outputs": [
    {
     "name": "stdout",
     "output_type": "stream",
     "text": [
      "All names are valid\n",
      "Topological sort: ['t', 'e', 's', 'c', 'd', 'b', 'a']\n"
     ]
    }
   ],
   "source": [
    "valid_names = list(map(lambda x: x.name, lst))\n",
    "invalid_names = list(filter(lambda x: x not in valid_names, G.nodes))\n",
    "if invalid_names:\n",
    "    raise ValueError(f\"Invalid names: {invalid_names}\") # unresolved names\n",
    "else:\n",
    "    print(\"All names are valid\")\n",
    "\n",
    "topo: list[str] = []\n",
    "try:\n",
    "    topo = list(nx.topological_sort(G))\n",
    "    print(f\"Topological sort: {topo}\")\n",
    "except nx.NetworkXUnfeasible:\n",
    "    raise ValueError(\"Cycle detected\")"
   ]
  },
  {
   "cell_type": "code",
   "execution_count": 7,
   "metadata": {},
   "outputs": [
    {
     "name": "stdout",
     "output_type": "stream",
     "text": [
      "a = 2\n",
      "b = 3\n",
      "d = 7\n",
      "c = 4\n",
      "s = 3\n",
      "e = 14\n",
      "t = 18\n",
      "{'a': 2, 'b': 3, 'd': 7, 'c': 4, 's': 3, 'e': 14, 't': 18}\n"
     ]
    }
   ],
   "source": [
    "# the evaluation order is reversed\n",
    "\n",
    "env = {}\n",
    "def sort_by_topo(lst, topo):\n",
    "    # Create a mapping from variable names to their positions in topo\n",
    "    index_map = {name: i for i, name in enumerate(reversed(topo))}\n",
    "    # Sort the list based on the mapping\n",
    "    sorted_lst = sorted(lst, key=lambda var: index_map[var.name])\n",
    "    return sorted_lst\n",
    "\n",
    "sorted_lst:List[LiteralVariable] = sort_by_topo(lst, topo)\n",
    "\n",
    "env = {}\n",
    "for v in sorted_lst:\n",
    "    env[v.name] = v.value(env)\n",
    "    print(f\"{v.name} = {env[v.name]}\")\n",
    "\n",
    "print(env)"
   ]
  },
  {
   "cell_type": "code",
   "execution_count": 8,
   "metadata": {},
   "outputs": [
    {
     "name": "stdout",
     "output_type": "stream",
     "text": [
      "Ok({'a': 2, 'b': 3, 'd': 7, 'c': 4, 's': 3, 'e': 14, 't': 18})\n"
     ]
    }
   ],
   "source": [
    "from app.dependency.graph import DependencyResolver\n",
    "\n",
    "resolver = DependencyResolver()\n",
    "resolver.add_many(lst)\n",
    "print(resolver.env)"
   ]
  },
  {
   "cell_type": "code",
   "execution_count": 9,
   "metadata": {},
   "outputs": [],
   "source": [
    "text = \"本期中出院病例${num_patient}例。手术人数${num_operation}人，四级手术${num_operation_4}人，微创手术${num_operation_micro}人。CMI值${CMI}，其中 CMI 小于1的病人数有${query(CMI<1)}人，占比${query(CMI<1)/num_patient}；1-2的病人数${query(CMI > 1 and CMI < 2)}人，占比${query(CMI > 1 and CMI < 2) / num_patient};2-5的病人数${(num_CIM_2_5 := query(CMI > 2 and CMI < 5))}人，占比${num_CIM_2_5 / num_patient};大于5的病人数${(num_CIM_gt_5 := query(CMI > 5))}人,占比${num_CIM_gt_5 / num_patient}。总体来说大于2的病人数${(num_CIM_gt_2 := query(CMI > 2))}人，占比${num_CIM_gt_2 / num_patient}%，有提升空间。\""
   ]
  },
  {
   "cell_type": "code",
   "execution_count": 10,
   "metadata": {},
   "outputs": [
    {
     "name": "stdout",
     "output_type": "stream",
     "text": [
      "['num_patient', 'num_operation', 'num_operation_4', 'num_operation_micro', 'CMI', 'query(CMI<1)', 'query(CMI<1)/num_patient', 'query(CMI > 1 and CMI < 2)', 'query(CMI > 1 and CMI < 2) / num_patient', '(num_CIM_2_5 := query(CMI > 2 and CMI < 5))', 'num_CIM_2_5 / num_patient', '(num_CIM_gt_5 := query(CMI > 5))', 'num_CIM_gt_5 / num_patient', '(num_CIM_gt_2 := query(CMI > 2))', 'num_CIM_gt_2 / num_patient']\n",
      "[None, None, None, None, None, None, None, None, None, 'num_CIM_2_5', None, 'num_CIM_gt_5', None, 'num_CIM_gt_2', None]\n",
      "[{'num_patient'}, {'num_operation'}, {'num_operation_4'}, {'num_operation_micro'}, {'CMI'}, {'CMI', 'query'}, {'CMI', 'num_patient', 'query'}, {'CMI', 'query'}, {'CMI', 'num_patient', 'query'}, {'CMI', 'query'}, {'num_CIM_2_5', 'num_patient'}, {'CMI', 'query'}, {'num_CIM_gt_5', 'num_patient'}, {'CMI', 'query'}, {'num_CIM_gt_2', 'num_patient'}]\n"
     ]
    }
   ],
   "source": [
    "from app.dependency.extractor import parse\n",
    "\n",
    "parsed = parse(text)\n",
    "\n",
    "# print(parsed)\n",
    "\n",
    "table = parsed.unwrap().table\n",
    "exprs = list(map(lambda x: LazyExpr(x[1]), table))\n",
    "print(list(map(lambda x: x.raw, exprs)))\n",
    "print(list(map(lambda x: x.target, exprs)))\n",
    "print(list(map(lambda x: x.unbound, exprs)))"
   ]
  }
 ],
 "metadata": {
  "kernelspec": {
   "display_name": "Python 3",
   "language": "python",
   "name": "python3"
  },
  "language_info": {
   "codemirror_mode": {
    "name": "ipython",
    "version": 3
   },
   "file_extension": ".py",
   "mimetype": "text/x-python",
   "name": "python",
   "nbconvert_exporter": "python",
   "pygments_lexer": "ipython3",
   "version": "3.10.4"
  }
 },
 "nbformat": 4,
 "nbformat_minor": 2
}
