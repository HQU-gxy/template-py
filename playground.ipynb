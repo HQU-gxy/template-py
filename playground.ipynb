{
 "cells": [
  {
   "cell_type": "code",
   "execution_count": 36,
   "metadata": {},
   "outputs": [],
   "source": [
    "from app.template.variable.expr import LazyExpr\n",
    "from typing import List, Dict, Any, Optional\n",
    "from datetime import datetime\n",
    "import ast"
   ]
  },
  {
   "cell_type": "code",
   "execution_count": 37,
   "metadata": {},
   "outputs": [
    {
     "name": "stdout",
     "output_type": "stream",
     "text": [
      "{'a'}\n",
      "aaaaa\n"
     ]
    },
    {
     "data": {
      "text/plain": [
       "1025"
      ]
     },
     "execution_count": 37,
     "metadata": {},
     "output_type": "execute_result"
    }
   ],
   "source": [
    "im = [\"import numpy as np\", \"from datetime import datetime\"]\n",
    "\n",
    "# s = \"lambda x: all(isinstance(i, datetime) for i in x) if isinstance(x, list) else False\"\n",
    "s = \"(aaaaa := a + 1)\"\n",
    "# s = \"\"\"\n",
    "# 1+1\n",
    "# \"\"\"\n",
    "f = LazyExpr(s, im)\n",
    "\n",
    "# print(ast.dump(f._ast, indent=2))\n",
    "print(f.unbound)\n",
    "print(f.target)\n",
    "\n",
    "f.eval(env={\"a\": 1024})"
   ]
  },
  {
   "cell_type": "code",
   "execution_count": 38,
   "metadata": {},
   "outputs": [
    {
     "data": {
      "text/plain": [
       "Ok({'a': 1, 'b': 2, 'c': 3})"
      ]
     },
     "execution_count": 38,
     "metadata": {},
     "output_type": "execute_result"
    }
   ],
   "source": [
    "from app.template.data_source.model import DictSource\n",
    "\n",
    "s = DictSource(name=\"test\",\n",
    "               data={\n",
    "                   \"a\": 1,\n",
    "                   \"b\": 2,\n",
    "                   \"c\": 3\n",
    "               },\n",
    "               json_schema={\n",
    "                   \"type\": \"object\",\n",
    "                   \"properties\": {\n",
    "                       \"a\": {\n",
    "                           \"type\": \"integer\"\n",
    "                       },\n",
    "                       \"b\": {\n",
    "                           \"type\": \"integer\"\n",
    "                       },\n",
    "                       \"c\": {\n",
    "                           \"type\": \"integer\"\n",
    "                       }\n",
    "                   }\n",
    "               })\n",
    "s.load()"
   ]
  },
  {
   "cell_type": "code",
   "execution_count": 39,
   "metadata": {},
   "outputs": [
    {
     "data": {
      "text/plain": [
       "LiteralVariable(name='s', expr=LazyExpr(raw='1+1', imports=[]), comment=None, formatter=None, t=None)"
      ]
     },
     "execution_count": 39,
     "metadata": {},
     "output_type": "execute_result"
    }
   ],
   "source": [
    "from app.template.variable.model import IVariable, LiteralVariable\n",
    "\n",
    "LiteralVariable(name=\"s\", expr=LazyExpr(\"1+1\"))"
   ]
  },
  {
   "cell_type": "code",
   "execution_count": 40,
   "metadata": {},
   "outputs": [
    {
     "data": {
      "text/plain": [
       "Ok(datetime.datetime(2024, 3, 28, 2, 15, 46, 743951))"
      ]
     },
     "execution_count": 40,
     "metadata": {},
     "output_type": "execute_result"
    }
   ],
   "source": [
    "var_a = LiteralVariable.model_validate({\n",
    "    \"name\": \"a\",\n",
    "    \"expr\": \"datetime.now()\",\n",
    "    \"t\": \"datetime\",\n",
    "    \"imports\": [\"from datetime import datetime\"],\n",
    "})\n",
    "\n",
    "var_a.load()"
   ]
  },
  {
   "cell_type": "code",
   "execution_count": 41,
   "metadata": {},
   "outputs": [
    {
     "data": {
      "text/plain": [
       "{'name': 's',\n",
       " 'expr': {'raw': 'datetime.now()',\n",
       "  'imports': ['import numpy as np', 'from datetime import datetime']},\n",
       " 'comment': None,\n",
       " 'formatter': {'raw': \"lambda x: x.strftime('%Y-%m-%d %H:%M:%S')\",\n",
       "  'imports': ['import numpy as np', 'from datetime import datetime']},\n",
       " 't': datetime.datetime}"
      ]
     },
     "metadata": {},
     "output_type": "display_data"
    },
    {
     "data": {
      "text/plain": [
       "'2024-03-28 02:15:46'"
      ]
     },
     "metadata": {},
     "output_type": "display_data"
    }
   ],
   "source": [
    "# var_s = LiteralVariable(name=\"s\", expr=LazyExpr(\"datetime.now()\"), t=datetime, imports=im)\n",
    "var_s = LiteralVariable(name=\"s\",\n",
    "                        expr=\"datetime.now()\",\n",
    "                        formatter=\"lambda x: x.strftime('%Y-%m-%d %H:%M:%S')\",\n",
    "                        imports=im,\n",
    "                        t=datetime)\n",
    "identity = lambda x: x\n",
    "display(var_s.model_dump())\n",
    "var_s_val = var_s.load().unwrap()\n",
    "format_fn = var_s.eval_formatter()\n",
    "assert format_fn is not None\n",
    "display(format_fn(var_s_val))"
   ]
  },
  {
   "cell_type": "code",
   "execution_count": 42,
   "metadata": {},
   "outputs": [
    {
     "name": "stdout",
     "output_type": "stream",
     "text": [
      "set()\n",
      "set()\n",
      "{'a'}\n",
      "{'b'}\n",
      "{'a', 'b'}\n",
      "{'d', 'c'}\n"
     ]
    }
   ],
   "source": [
    "lst = [\n",
    "    LiteralVariable(name=\"s\", expr=LazyExpr(\"1+1\"), formatter=\"lambda x: x+1\"),\n",
    "    LiteralVariable(name=\"a\", expr=LazyExpr(\"1+1\")),\n",
    "    LiteralVariable(name=\"b\", expr=LazyExpr(\"a+1\")),\n",
    "    LiteralVariable(name=\"c\", expr=LazyExpr(\"b+1\")),\n",
    "    LiteralVariable(name=\"d\", expr=LazyExpr(\"a+b+2\")),\n",
    "    LiteralVariable(name=\"e\", expr=LazyExpr(\"c+d+3\")),\n",
    "]\n",
    "for v in lst:\n",
    "    print(v.unbound)"
   ]
  },
  {
   "cell_type": "code",
   "execution_count": 43,
   "metadata": {},
   "outputs": [
    {
     "data": {
      "text/plain": [
       "[EvaluatedVariable(name='a', value=2, formatter=None),\n",
       " EvaluatedVariable(name='b', value=3, formatter=None),\n",
       " EvaluatedVariable(name='c', value=4, formatter=None),\n",
       " EvaluatedVariable(name='d', value=7, formatter=None),\n",
       " EvaluatedVariable(name='e', value=14, formatter=None),\n",
       " EvaluatedVariable(name='s', value=2, formatter=<function __lazy_expr.<locals>.<lambda> at 0x000002A647EAF7E0>)]"
      ]
     },
     "metadata": {},
     "output_type": "display_data"
    },
    {
     "data": {
      "text/plain": [
       "{'a': 2, 'b': 3, 'c': 4, 'd': 7, 'e': 14, 's': 2}"
      ]
     },
     "metadata": {},
     "output_type": "display_data"
    }
   ],
   "source": [
    "from app.template.dependency.resolver import resolve_and_evaluate, to_env_dict\n",
    "\n",
    "vars = resolve_and_evaluate(lst)\n",
    "display(vars)\n",
    "display(to_env_dict(vars))"
   ]
  },
  {
   "cell_type": "code",
   "execution_count": 44,
   "metadata": {},
   "outputs": [],
   "source": [
    "text = \"本期中出院病例${{'a':0}}例。手术人数${num_operation}人，四级手术${num_operation_4}人，微创手术${num_operation_micro}人。CMI值${CMI}，其中 CMI 小于1的病人数有${query(CMI<1)}人，占比${query(CMI<1)/num_patient}；1-2的病人数${query(CMI > 1 and CMI < 2)}人，占比${query(CMI > 1 and CMI < 2) / num_patient};2-5的病人数${(num_CIM_2_5 := query(CMI > 2 and CMI < 5))}人，占比${num_CIM_2_5 / num_patient};大于5的病人数${(num_CIM_gt_5 := query(CMI > 5))}人,占比${num_CIM_gt_5 / num_patient}。总体来说大于2的病人数${(num_CIM_gt_2 := query(CMI > 2))}人，占比${num_CIM_gt_2 / num_patient}%，有提升空间。\""
   ]
  },
  {
   "cell_type": "code",
   "execution_count": 45,
   "metadata": {},
   "outputs": [
    {
     "data": {
      "text/plain": [
       "'本期中出院病例#938344a3#例。手术人数#e2264901#人，四级手术#d5191cf5#人，微创手术#272aea71#人。CMI值#50c182b7#，其中 CMI 小于1的病人数有#44224433#人，占比#9b57cb36#；1-2的病人数#0bc37be4#人，占比#0c46628a#;2-5的病人数#80ec94a6#人，占比#f6d11d05#;大于5的病人数#0919f947#人,占比#682db670#。总体来说大于2的病人数#023ed6d7#人，占比#c33640e8#%，有提升空间。'"
      ]
     },
     "metadata": {},
     "output_type": "display_data"
    },
    {
     "data": {
      "text/plain": [
       "{'938344a3': LazyExpr(raw=\"{'a':0}\", imports=None),\n",
       " 'e2264901': LazyExpr(raw='num_operation', imports=None),\n",
       " 'd5191cf5': LazyExpr(raw='num_operation_4', imports=None),\n",
       " '272aea71': LazyExpr(raw='num_operation_micro', imports=None),\n",
       " '50c182b7': LazyExpr(raw='CMI', imports=None),\n",
       " '44224433': LazyExpr(raw='query(CMI<1)', imports=None),\n",
       " '9b57cb36': LazyExpr(raw='query(CMI<1)/num_patient', imports=None),\n",
       " '0bc37be4': LazyExpr(raw='query(CMI > 1 and CMI < 2)', imports=None),\n",
       " '0c46628a': LazyExpr(raw='query(CMI > 1 and CMI < 2) / num_patient', imports=None),\n",
       " '80ec94a6': LazyExpr(raw='(num_CIM_2_5 := query(CMI > 2 and CMI < 5))', imports=None),\n",
       " 'f6d11d05': LazyExpr(raw='num_CIM_2_5 / num_patient', imports=None),\n",
       " '0919f947': LazyExpr(raw='(num_CIM_gt_5 := query(CMI > 5))', imports=None),\n",
       " '682db670': LazyExpr(raw='num_CIM_gt_5 / num_patient', imports=None),\n",
       " '023ed6d7': LazyExpr(raw='(num_CIM_gt_2 := query(CMI > 2))', imports=None),\n",
       " 'c33640e8': LazyExpr(raw='num_CIM_gt_2 / num_patient', imports=None)}"
      ]
     },
     "metadata": {},
     "output_type": "display_data"
    }
   ],
   "source": [
    "from app.template.content import HtmlContent, TableContent\n",
    "\n",
    "parsed = HtmlContent(tag=\"p\", content=text)\n",
    "\n",
    "e = parsed.extract(None).unwrap()\n",
    "display(e.text_with_hash)\n",
    "display(e.exprs)\n",
    "# display(list(map(lambda x: x[1].solely_dependency, e.exprs.items())))"
   ]
  },
  {
   "cell_type": "code",
   "execution_count": 46,
   "metadata": {},
   "outputs": [
    {
     "data": {
      "text/plain": [
       "Err(ValueError('Failed to parse some expressions', {'c': ValueError('Invalid interpolation for c `${v} ${vv} ${sss}`. Expected exactly one expression, got 3')}))"
      ]
     },
     "execution_count": 46,
     "metadata": {},
     "output_type": "execute_result"
    }
   ],
   "source": [
    "ll = TableContent(data={\n",
    "    \"a\": [1, 2, 3],\n",
    "    \"b\": \"${v}\",\n",
    "    \"c\": \"${v} ${vv} ${sss}\", # error\n",
    "})\n",
    "\n",
    "ll.extract(None)"
   ]
  },
  {
   "cell_type": "code",
   "execution_count": 48,
   "metadata": {},
   "outputs": [
    {
     "ename": "RuntimeError",
     "evalue": "('failed to evaluate variable `d`', ValueError('failed to verify value: d', TypeError(\"unsupported operand type(s) for +: 'int' and 'str'\")))",
     "output_type": "error",
     "traceback": [
      "\u001b[1;31m---------------------------------------------------------------------------\u001b[0m",
      "\u001b[1;31mRuntimeError\u001b[0m                              Traceback (most recent call last)",
      "Cell \u001b[1;32mIn[48], line 64\u001b[0m\n\u001b[0;32m      2\u001b[0m \u001b[38;5;28;01mfrom\u001b[39;00m \u001b[38;5;21;01mapp\u001b[39;00m\u001b[38;5;21;01m.\u001b[39;00m\u001b[38;5;21;01mtemplate\u001b[39;00m \u001b[38;5;28;01mimport\u001b[39;00m evaluate_template\n\u001b[0;32m      5\u001b[0m tt \u001b[38;5;241m=\u001b[39m {\n\u001b[0;32m      6\u001b[0m     \u001b[38;5;124m\"\u001b[39m\u001b[38;5;124mimports\u001b[39m\u001b[38;5;124m\"\u001b[39m: [\u001b[38;5;124m\"\u001b[39m\u001b[38;5;124mimport numpy as np\u001b[39m\u001b[38;5;124m\"\u001b[39m, \u001b[38;5;124m\"\u001b[39m\u001b[38;5;124mfrom datetime import datetime\u001b[39m\u001b[38;5;124m\"\u001b[39m, \u001b[38;5;124m\"\u001b[39m\u001b[38;5;124mimport builtins\u001b[39m\u001b[38;5;124m\"\u001b[39m],\n\u001b[0;32m      7\u001b[0m     \u001b[38;5;124m\"\u001b[39m\u001b[38;5;124mdata_sources\u001b[39m\u001b[38;5;124m\"\u001b[39m: [\n\u001b[1;32m   (...)\u001b[0m\n\u001b[0;32m     61\u001b[0m     ],\n\u001b[0;32m     62\u001b[0m }\n\u001b[1;32m---> 64\u001b[0m d \u001b[38;5;241m=\u001b[39m \u001b[38;5;28;01mawait\u001b[39;00m evaluate_template(tt)\n\u001b[0;32m     65\u001b[0m display(orjson\u001b[38;5;241m.\u001b[39mdumps(d)\u001b[38;5;241m.\u001b[39mdecode())\n",
      "File \u001b[1;32mc:\\Users\\cross\\Desktop\\code\\template-py\\app\\template\\__init__.py:45\u001b[0m, in \u001b[0;36mevaluate_template\u001b[1;34m(data)\u001b[0m\n\u001b[0;32m     42\u001b[0m contents_ \u001b[38;5;241m=\u001b[39m data\u001b[38;5;241m.\u001b[39mget(\u001b[38;5;124m\"\u001b[39m\u001b[38;5;124mcontents\u001b[39m\u001b[38;5;124m\"\u001b[39m, [])\n\u001b[0;32m     43\u001b[0m contents \u001b[38;5;241m=\u001b[39m [unmarshal_content(c) \u001b[38;5;28;01mfor\u001b[39;00m c \u001b[38;5;129;01min\u001b[39;00m contents_]\n\u001b[1;32m---> 45\u001b[0m evaluated_vars \u001b[38;5;241m=\u001b[39m \u001b[43mresolve_and_evaluate\u001b[49m\u001b[43m(\u001b[49m\u001b[43mvariables\u001b[49m\u001b[43m)\u001b[49m\n\u001b[0;32m     46\u001b[0m evaluated_contents \u001b[38;5;241m=\u001b[39m [\n\u001b[0;32m     47\u001b[0m     c\u001b[38;5;241m.\u001b[39meval_result(evaluated_vars, imports) \u001b[38;5;28;01mfor\u001b[39;00m c \u001b[38;5;129;01min\u001b[39;00m contents\n\u001b[0;32m     48\u001b[0m ]\n\u001b[0;32m     49\u001b[0m \u001b[38;5;28;01mreturn\u001b[39;00m {\n\u001b[0;32m     50\u001b[0m     \u001b[38;5;124m\"\u001b[39m\u001b[38;5;124mvariables\u001b[39m\u001b[38;5;124m\"\u001b[39m: [{\n\u001b[0;32m     51\u001b[0m         var\u001b[38;5;241m.\u001b[39mname: var\u001b[38;5;241m.\u001b[39mvalue\n\u001b[0;32m     52\u001b[0m     } \u001b[38;5;28;01mfor\u001b[39;00m var \u001b[38;5;129;01min\u001b[39;00m evaluated_vars],\n\u001b[0;32m     53\u001b[0m     \u001b[38;5;124m\"\u001b[39m\u001b[38;5;124mcontents\u001b[39m\u001b[38;5;124m\"\u001b[39m: evaluated_contents,\n\u001b[0;32m     54\u001b[0m }\n",
      "File \u001b[1;32mc:\\Users\\cross\\Desktop\\code\\template-py\\app\\template\\dependency\\resolver.py:114\u001b[0m, in \u001b[0;36mresolve_and_evaluate\u001b[1;34m(variables)\u001b[0m\n\u001b[0;32m    112\u001b[0m \u001b[38;5;28;01mif\u001b[39;00m res\u001b[38;5;241m.\u001b[39mis_err():\n\u001b[0;32m    113\u001b[0m     \u001b[38;5;28;01mraise\u001b[39;00m \u001b[38;5;167;01mRuntimeError\u001b[39;00m(\u001b[38;5;124m\"\u001b[39m\u001b[38;5;124mfailed to add variables\u001b[39m\u001b[38;5;124m\"\u001b[39m, res\u001b[38;5;241m.\u001b[39munwrap_err())\n\u001b[1;32m--> 114\u001b[0m \u001b[38;5;28;01mreturn\u001b[39;00m \u001b[43mresolver\u001b[49m\u001b[38;5;241;43m.\u001b[39;49m\u001b[43meval\u001b[49m\u001b[43m(\u001b[49m\u001b[43m)\u001b[49m\n",
      "File \u001b[1;32mc:\\Users\\cross\\Desktop\\code\\template-py\\app\\template\\dependency\\resolver.py:101\u001b[0m, in \u001b[0;36mDependencyResolver.eval\u001b[1;34m(self)\u001b[0m\n\u001b[0;32m     96\u001b[0m     formatter \u001b[38;5;241m=\u001b[39m var\u001b[38;5;241m.\u001b[39meval_formatter(env\u001b[38;5;241m=\u001b[39menv)\n\u001b[0;32m     97\u001b[0m     \u001b[38;5;28;01mreturn\u001b[39;00m EvaluatedVariable(name\u001b[38;5;241m=\u001b[39mvar\u001b[38;5;241m.\u001b[39mname,\n\u001b[0;32m     98\u001b[0m                              value\u001b[38;5;241m=\u001b[39mval,\n\u001b[0;32m     99\u001b[0m                              formatter\u001b[38;5;241m=\u001b[39mformatter)\n\u001b[1;32m--> 101\u001b[0m \u001b[38;5;28;01mreturn\u001b[39;00m [\u001b[43meval_var\u001b[49m\u001b[43m(\u001b[49m\u001b[43mvar\u001b[49m\u001b[43m)\u001b[49m \u001b[38;5;28;01mfor\u001b[39;00m var \u001b[38;5;129;01min\u001b[39;00m \u001b[38;5;28mself\u001b[39m\u001b[38;5;241m.\u001b[39m_table]\n",
      "File \u001b[1;32mc:\\Users\\cross\\Desktop\\code\\template-py\\app\\template\\dependency\\resolver.py:92\u001b[0m, in \u001b[0;36mDependencyResolver.eval.<locals>.eval_var\u001b[1;34m(var)\u001b[0m\n\u001b[0;32m     90\u001b[0m value \u001b[38;5;241m=\u001b[39m var\u001b[38;5;241m.\u001b[39mload(env\u001b[38;5;241m=\u001b[39menv)\n\u001b[0;32m     91\u001b[0m \u001b[38;5;28;01mif\u001b[39;00m value\u001b[38;5;241m.\u001b[39mis_err():\n\u001b[1;32m---> 92\u001b[0m     \u001b[38;5;28;01mraise\u001b[39;00m \u001b[38;5;167;01mRuntimeError\u001b[39;00m(\u001b[38;5;124mf\u001b[39m\u001b[38;5;124m\"\u001b[39m\u001b[38;5;124mfailed to evaluate variable `\u001b[39m\u001b[38;5;132;01m{\u001b[39;00mvar\u001b[38;5;241m.\u001b[39mname\u001b[38;5;132;01m}\u001b[39;00m\u001b[38;5;124m`\u001b[39m\u001b[38;5;124m\"\u001b[39m,\n\u001b[0;32m     93\u001b[0m                        value\u001b[38;5;241m.\u001b[39munwrap_err())\n\u001b[0;32m     94\u001b[0m val \u001b[38;5;241m=\u001b[39m value\u001b[38;5;241m.\u001b[39munwrap()\n\u001b[0;32m     95\u001b[0m env[var\u001b[38;5;241m.\u001b[39mname] \u001b[38;5;241m=\u001b[39m val\n",
      "\u001b[1;31mRuntimeError\u001b[0m: ('failed to evaluate variable `d`', ValueError('failed to verify value: d', TypeError(\"unsupported operand type(s) for +: 'int' and 'str'\")))"
     ]
    }
   ],
   "source": [
    "import orjson\n",
    "from app.template import evaluate_template\n",
    "\n",
    "\n",
    "tt = {\n",
    "    \"imports\": [\"import numpy as np\", \"from datetime import datetime\", \"import builtins\"],\n",
    "    \"data_sources\": [\n",
    "        {\n",
    "            \"source_type\": \"dict\",\n",
    "            \"name\": \"test\",\n",
    "            \"data\": {\"a\": 1, \"b\": 2, \"c\": 3},\n",
    "            \"json_schema\": {\n",
    "                \"type\": \"object\",\n",
    "                \"properties\": {\n",
    "                    \"a\": {\"type\": \"integer\"},\n",
    "                    \"b\": {\"type\": \"integer\"},\n",
    "                    \"c\": {\"type\": \"integer\"},\n",
    "                },\n",
    "            },\n",
    "        }\n",
    "    ],\n",
    "    \"variables\": [\n",
    "        {\n",
    "            \"name\": \"s\",\n",
    "            \"expr\": \"datetime.now()\",\n",
    "            \"formatter\": \"lambda x: x.strftime('%Y 年 %m 月 %d 日 %H:%M:%S')\",\n",
    "            \"t\": \"datetime\",\n",
    "        },\n",
    "        {\n",
    "            \"name\": \"a\",\n",
    "            \"source\": \"test\",\n",
    "            \"json_path\": \"$.a\",\n",
    "            \"t\": \"int\",\n",
    "        },\n",
    "        {\n",
    "            \"name\": \"b\",\n",
    "            \"source\": \"test\",\n",
    "            \"json_path\": \"$.b\",\n",
    "            \"preprocessor\": \"lambda x: builtins.str(x) + '1'\",\n",
    "            \"t\": \"str\",\n",
    "        },\n",
    "        {\n",
    "            \"name\": \"c\",\n",
    "            \"source\": \"test\",\n",
    "            \"json_path\": \"$.c\",\n",
    "        },\n",
    "        {\n",
    "            \"name\": \"d\",\n",
    "            \"expr\": \"a + builtins.int(b) + c\",\n",
    "            \"t\": \"int\",\n",
    "        }\n",
    "    ],\n",
    "    \"contents\": [\n",
    "        {\"tag\": \"p\", \"content\": \"时间是 ${s}; a 是 ${a}, b 是 ${b}, c 是 ${c} d 是 ${d}\"},\n",
    "        {\n",
    "            \"table_type\": \"table\",\n",
    "            \"data\": {\n",
    "                \"col_1\": \"${[a, b, c]}\",\n",
    "            },\n",
    "        },\n",
    "    ],\n",
    "}\n",
    "\n",
    "d = await evaluate_template(tt)\n",
    "display(orjson.dumps(d).decode())"
   ]
  }
 ],
 "metadata": {
  "kernelspec": {
   "display_name": "Python 3",
   "language": "python",
   "name": "python3"
  },
  "language_info": {
   "codemirror_mode": {
    "name": "ipython",
    "version": 3
   },
   "file_extension": ".py",
   "mimetype": "text/x-python",
   "name": "python",
   "nbconvert_exporter": "python",
   "pygments_lexer": "ipython3",
   "version": "3.12.1"
  }
 },
 "nbformat": 4,
 "nbformat_minor": 2
}
